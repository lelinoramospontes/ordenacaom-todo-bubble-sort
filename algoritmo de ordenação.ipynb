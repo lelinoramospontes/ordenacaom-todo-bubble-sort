{
 "cells": [
  {
   "cell_type": "code",
   "execution_count": 2,
   "id": "9de5f09f",
   "metadata": {},
   "outputs": [
    {
     "name": "stdout",
     "output_type": "stream",
     "text": [
      "[0, 1, 3, 3, 4, 5, 8, 9, 10, 14]\n"
     ]
    }
   ],
   "source": [
    "def sort(ordenado):\n",
    "  for f in range(len(ordenado), 0, -1):\n",
    "    ex = False\n",
    "    for atual in range(0,  f - 1):\n",
    "      if ordenado[atual] > ordenado[atual + 1]:\n",
    "        ordenado[atual], ordenado[atual + 1] = ordenado[atual + 1], ordenado[atual]\n",
    "        ex = True\n",
    "        \n",
    "        if not  ex:\n",
    "          break\n",
    "     \n",
    "ordenado = sorted([8, 3, 4, 5, 3, 9, 1, 0, 14, 10])\n",
    "sort(ordenado)\n",
    "print(ordenado)"
   ]
  },
  {
   "cell_type": "code",
   "execution_count": null,
   "id": "c9a39e7c",
   "metadata": {},
   "outputs": [],
   "source": []
  }
 ],
 "metadata": {
  "kernelspec": {
   "display_name": "Python 3 (ipykernel)",
   "language": "python",
   "name": "python3"
  },
  "language_info": {
   "codemirror_mode": {
    "name": "ipython",
    "version": 3
   },
   "file_extension": ".py",
   "mimetype": "text/x-python",
   "name": "python",
   "nbconvert_exporter": "python",
   "pygments_lexer": "ipython3",
   "version": "3.9.7"
  }
 },
 "nbformat": 4,
 "nbformat_minor": 5
}
